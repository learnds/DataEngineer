{
 "cells": [
  {
   "cell_type": "code",
   "execution_count": 1,
   "metadata": {
    "editable": true
   },
   "outputs": [],
   "source": [
    "import configparser\n",
    "from datetime import datetime\n",
    "import os\n",
    "from pyspark.sql import SparkSession\n",
    "from pyspark.sql.functions import udf, col\n",
    "from pyspark.sql.functions import year, month, dayofmonth, hour, weekofyear, date_format"
   ]
  },
  {
   "cell_type": "code",
   "execution_count": 2,
   "metadata": {
    "editable": true
   },
   "outputs": [],
   "source": [
    "config = configparser.ConfigParser()\n",
    "\n",
    "config.read('dl.cfg')\n",
    "\n",
    "os.environ['AWS_ACCESS_KEY_ID']=config['AWS']['AWS_ACCESS_KEY_ID']\n",
    "os.environ['AWS_SECRET_ACCESS_KEY']=config['AWS']['AWS_SECRET_ACCESS_KEY']\n"
   ]
  },
  {
   "cell_type": "code",
   "execution_count": 3,
   "metadata": {
    "editable": true
   },
   "outputs": [],
   "source": [
    "spark = SparkSession \\\n",
    "        .builder \\\n",
    "        .config(\"spark.jars.packages\", \"org.apache.hadoop:hadoop-aws:2.7.0\") \\\n",
    "        .getOrCreate()"
   ]
  },
  {
   "cell_type": "code",
   "execution_count": 4,
   "metadata": {
    "editable": true
   },
   "outputs": [
    {
     "name": "stdout",
     "output_type": "stream",
     "text": [
      "root\n",
      " |-- artist_id: string (nullable = true)\n",
      " |-- artist_latitude: double (nullable = true)\n",
      " |-- artist_location: string (nullable = true)\n",
      " |-- artist_longitude: double (nullable = true)\n",
      " |-- artist_name: string (nullable = true)\n",
      " |-- duration: double (nullable = true)\n",
      " |-- num_songs: long (nullable = true)\n",
      " |-- song_id: string (nullable = true)\n",
      " |-- title: string (nullable = true)\n",
      " |-- year: long (nullable = true)\n",
      "\n",
      "+------------------+---------------+-----------------+----------------+--------------------+---------+---------+------------------+--------------------+----+\n",
      "|         artist_id|artist_latitude|  artist_location|artist_longitude|         artist_name| duration|num_songs|           song_id|               title|year|\n",
      "+------------------+---------------+-----------------+----------------+--------------------+---------+---------+------------------+--------------------+----+\n",
      "|ARDR4AC1187FB371A1|           null|                 |            null|Montserrat Caball...|511.16363|        1|SOBAYLL12A8C138AF9|Sono andati? Fing...|   0|\n",
      "|AREBBGV1187FB523D2|           null|      Houston, TX|            null|Mike Jones (Featu...|173.66159|        1|SOOLYAZ12A6701F4A6|Laws Patrolling (...|   0|\n",
      "|ARMAC4T1187FB3FA4C|       40.82624|Morris Plains, NJ|       -74.47995|The Dillinger Esc...|207.77751|        1|SOBBUGU12A8C13E95D|Setting Fire to S...|2004|\n",
      "|ARPBNLO1187FB3D52F|       40.71455|     New York, NY|       -74.00712|            Tiny Tim| 43.36281|        1|SOAOIBZ12AB01815BE|I Hold Your Hand ...|2000|\n",
      "|ARDNS031187B9924F0|       32.67828|          Georgia|       -83.22295|          Tim Wilson|186.48771|        1|SONYPOM12A8C13B2D7|I Think My Wife I...|2005|\n",
      "+------------------+---------------+-----------------+----------------+--------------------+---------+---------+------------------+--------------------+----+\n",
      "only showing top 5 rows\n",
      "\n"
     ]
    }
   ],
   "source": [
    "#df = spark.read.json('s3://udacity-dend/song_data')\n",
    "song_log = spark.read.json('data/song_data/A/*/*/*.json')\n",
    "song_log.printSchema()\n",
    "song_log.show(5)"
   ]
  },
  {
   "cell_type": "code",
   "execution_count": 5,
   "metadata": {
    "editable": true
   },
   "outputs": [],
   "source": [
    "song_log.createOrReplaceTempView(\"song_log_table\")"
   ]
  },
  {
   "cell_type": "code",
   "execution_count": 6,
   "metadata": {
    "editable": true
   },
   "outputs": [
    {
     "name": "stdout",
     "output_type": "stream",
     "text": [
      "+--------+\n",
      "|count(1)|\n",
      "+--------+\n",
      "|      71|\n",
      "+--------+\n",
      "\n"
     ]
    }
   ],
   "source": [
    "spark.sql(\"select count(1) from song_log_table\").show()"
   ]
  },
  {
   "cell_type": "code",
   "execution_count": 7,
   "metadata": {
    "editable": true
   },
   "outputs": [
    {
     "name": "stdout",
     "output_type": "stream",
     "text": [
      "root\n",
      " |-- artist_id: string (nullable = true)\n",
      " |-- name: string (nullable = true)\n",
      " |-- location: string (nullable = true)\n",
      " |-- latitude: double (nullable = true)\n",
      " |-- longitude: double (nullable = true)\n",
      "\n"
     ]
    }
   ],
   "source": [
    "# artist table\n",
    "#spark.sql(\"select distinct artist_id, artist_name name,artist_location location, artist_latitude latitude, artist_longitude longitude from song_log_table\").show()\n",
    "artist_frame = spark.sql(\"select distinct artist_id, artist_name name,artist_location location, artist_latitude latitude, artist_longitude longitude from song_log_table\")\n",
    "artist_frame.count()\n",
    "#artist_frame.write.json(\"data/artistoutput\")\n",
    "#artist_frame.printSchema()"
   ]
  },
  {
   "cell_type": "code",
   "execution_count": 87,
   "metadata": {
    "editable": true
   },
   "outputs": [
    {
     "name": "stdout",
     "output_type": "stream",
     "text": [
      "+------------------+--------------------+--------------------+--------+----------+\n",
      "|         artist_id|                name|            location|latitude| longitude|\n",
      "+------------------+--------------------+--------------------+--------+----------+\n",
      "|ARPBNLO1187FB3D52F|            Tiny Tim|        New York, NY|40.71455| -74.00712|\n",
      "|ARBEBBY1187B9B43DB|           Tom Petty|     Gainesville, FL|    null|      null|\n",
      "|AR0IAWL1187B9A96D0|        Danilo Perez|              Panama|  8.4177| -80.11278|\n",
      "|ARMBR4Y1187B9990EB|        David Martin|     California - SF|37.77916|-122.42005|\n",
      "|ARD0S291187B9B7BF5|             Rated R|                Ohio|    null|      null|\n",
      "|AR0RCMP1187FB3F427|    Billie Jo Spears|        Beaumont, TX|30.08615| -94.10158|\n",
      "|ARKRRTF1187B9984DA|    Sonora Santanera|                    |    null|      null|\n",
      "|ARHHO3O1187B989413|           Bob Azzam|                    |    null|      null|\n",
      "|ARJIE2Y1187B994AB7|         Line Renaud|                    |    null|      null|\n",
      "|ARGIWFO1187B9B55B7|      Five Bolt Main|                    |    null|      null|\n",
      "|AROUOZZ1187B9ABE51|         Willie Bobo|New York, NY [Spa...|40.79195| -73.94512|\n",
      "|ARDR4AC1187FB371A1|Montserrat Caball...|                    |    null|      null|\n",
      "|AR47JEX1187B995D81|        SUE THOMPSON|          Nevada, MO|37.83721| -94.35868|\n",
      "|ARYKCQI1187FB3B18F|               Tesla|                    |    null|      null|\n",
      "|ARL7K851187B99ACD2|           Andy Andy|                    |    null|      null|\n",
      "|ARNPAGP1241B9C7FD4|           lextrical|                    |    null|      null|\n",
      "|ARXR32B1187FB57099|                 Gob|                    |    null|      null|\n",
      "|ARQ9BO41187FB5CF1F|          John Davis|        Pennsylvania|40.99471| -77.60454|\n",
      "|AR1ZHYZ1187FB3C717|       Faiz Ali Faiz|                    |    null|      null|\n",
      "|ARMAC4T1187FB3FA4C|The Dillinger Esc...|   Morris Plains, NJ|40.82624| -74.47995|\n",
      "+------------------+--------------------+--------------------+--------+----------+\n",
      "only showing top 20 rows\n",
      "\n"
     ]
    }
   ],
   "source": [
    "artist_frame.createOrReplaceTempView(\"artist_table\")\n",
    "spark.sql(\"select * from artist_table\").show()"
   ]
  },
  {
   "cell_type": "code",
   "execution_count": 88,
   "metadata": {
    "editable": true
   },
   "outputs": [
    {
     "name": "stdout",
     "output_type": "stream",
     "text": [
      "+------------------+--------------------+------------------+----+---------+\n",
      "|           song_id|               title|         artist_id|year| duration|\n",
      "+------------------+--------------------+------------------+----+---------+\n",
      "|SOGNCJP12A58A80271|Do You Finally Ne...|ARB29H41187B98F0EF|1972|342.56934|\n",
      "|SOOJPRH12A8C141995|   Loaded Like A Gun|ARBGXIG122988F409D|   0|173.19138|\n",
      "|SOFCHDR12AB01866EF|         Living Hell|AREVWGE1187B9B890A|   0|282.43546|\n",
      "|SOWTBJW12AC468AC6E|Broken-Down Merry...|ARQGYP71187FB44566|   0|151.84934|\n",
      "|SOGOSOV12AF72A285E|   ¿Dónde va Chichi?|ARGUVEV1187B98BA17|1997|313.12934|\n",
      "|SOTUKVB12AB0181477|   Blessed Assurance|AR7ZKHQ1187B98DD73|1993|  270.602|\n",
      "|SOMVWWT12A58A7AE05|Knocked Out Of Th...|ARQ9BO41187FB5CF1F|   0|183.17016|\n",
      "|SOBEBDG12A58A76D60|        Kassie Jones|ARI3BMM1187FB4255E|   0|220.78649|\n",
      "|SOILPQQ12AB017E82A|Sohna Nee Sohna Data|AR1ZHYZ1187FB3C717|   0|599.24853|\n",
      "|SOYMRWW12A6D4FAB14|The Moon And I (O...|ARKFYS91187B98E58F|   0| 267.7024|\n",
      "|SOBCOSW12A8C13D398|  Rumba De Barcelona|AR7SMBG1187B9B9066|   0|218.38322|\n",
      "|SOXVLOJ12AB0189215|     Amor De Cabaret|ARKRRTF1187B9984DA|   0|177.47546|\n",
      "|SOKEJEJ12A8C13E0D0|The Urgency (LP V...|ARC43071187B990240|   0|245.21098|\n",
      "|SOTTDKS12AB018D69B|It Wont Be Christmas|ARMBR4Y1187B9990EB|   0|241.47546|\n",
      "|SOBLGCN12AB0183212|James (Hold The L...|AR47JEX1187B995D81|1985|124.86485|\n",
      "|SOHKNRJ12A6701D1F8|        Drop of Rain|AR10USD1187B99F3F1|   0|189.57016|\n",
      "|SOQHXMF12AB0182363|     Young Boy Blues|ARGSJW91187B9B1D6B|   0|218.77506|\n",
      "|SOZVMJI12AB01808AF|     Synthetic Dream|ARNPAGP1241B9C7FD4|   0|165.69424|\n",
      "|SOFNOQK12AB01840FC|Kutt Free (DJ Vol...|ARNNKDK1187B98BBD5|   0|407.37914|\n",
      "|SONYPOM12A8C13B2D7|I Think My Wife I...|ARDNS031187B9924F0|2005|186.48771|\n",
      "+------------------+--------------------+------------------+----+---------+\n",
      "only showing top 20 rows\n",
      "\n"
     ]
    }
   ],
   "source": [
    "# songs table\n",
    "spark.sql(\"select distinct song_id, title, artist_id, year, duration from song_log_table\").show()\n",
    "song_frame = spark.sql(\"select distinct song_id, title, artist_id, year, duration from song_log_table\")"
   ]
  },
  {
   "cell_type": "code",
   "execution_count": 97,
   "metadata": {
    "editable": true
   },
   "outputs": [
    {
     "name": "stdout",
     "output_type": "stream",
     "text": [
      "+------------------+--------------------+------------------+----+---------+\n",
      "|           song_id|               title|         artist_id|year| duration|\n",
      "+------------------+--------------------+------------------+----+---------+\n",
      "|SOGNCJP12A58A80271|Do You Finally Ne...|ARB29H41187B98F0EF|1972|342.56934|\n",
      "|SOOJPRH12A8C141995|   Loaded Like A Gun|ARBGXIG122988F409D|   0|173.19138|\n",
      "|SOFCHDR12AB01866EF|         Living Hell|AREVWGE1187B9B890A|   0|282.43546|\n",
      "|SOWTBJW12AC468AC6E|Broken-Down Merry...|ARQGYP71187FB44566|   0|151.84934|\n",
      "|SOGOSOV12AF72A285E|   ¿Dónde va Chichi?|ARGUVEV1187B98BA17|1997|313.12934|\n",
      "|SOTUKVB12AB0181477|   Blessed Assurance|AR7ZKHQ1187B98DD73|1993|  270.602|\n",
      "|SOMVWWT12A58A7AE05|Knocked Out Of Th...|ARQ9BO41187FB5CF1F|   0|183.17016|\n",
      "|SOBEBDG12A58A76D60|        Kassie Jones|ARI3BMM1187FB4255E|   0|220.78649|\n",
      "|SOILPQQ12AB017E82A|Sohna Nee Sohna Data|AR1ZHYZ1187FB3C717|   0|599.24853|\n",
      "|SOYMRWW12A6D4FAB14|The Moon And I (O...|ARKFYS91187B98E58F|   0| 267.7024|\n",
      "|SOBCOSW12A8C13D398|  Rumba De Barcelona|AR7SMBG1187B9B9066|   0|218.38322|\n",
      "|SOXVLOJ12AB0189215|     Amor De Cabaret|ARKRRTF1187B9984DA|   0|177.47546|\n",
      "|SOKEJEJ12A8C13E0D0|The Urgency (LP V...|ARC43071187B990240|   0|245.21098|\n",
      "|SOTTDKS12AB018D69B|It Wont Be Christmas|ARMBR4Y1187B9990EB|   0|241.47546|\n",
      "|SOBLGCN12AB0183212|James (Hold The L...|AR47JEX1187B995D81|1985|124.86485|\n",
      "|SOHKNRJ12A6701D1F8|        Drop of Rain|AR10USD1187B99F3F1|   0|189.57016|\n",
      "|SOQHXMF12AB0182363|     Young Boy Blues|ARGSJW91187B9B1D6B|   0|218.77506|\n",
      "|SOZVMJI12AB01808AF|     Synthetic Dream|ARNPAGP1241B9C7FD4|   0|165.69424|\n",
      "|SOFNOQK12AB01840FC|Kutt Free (DJ Vol...|ARNNKDK1187B98BBD5|   0|407.37914|\n",
      "|SONYPOM12A8C13B2D7|I Think My Wife I...|ARDNS031187B9924F0|2005|186.48771|\n",
      "+------------------+--------------------+------------------+----+---------+\n",
      "only showing top 20 rows\n",
      "\n"
     ]
    }
   ],
   "source": [
    "song_frame.createOrReplaceTempView(\"song_table\")\n",
    "spark.sql(\"select * from song_table\").show()"
   ]
  },
  {
   "cell_type": "code",
   "execution_count": 90,
   "metadata": {
    "editable": true
   },
   "outputs": [
    {
     "name": "stdout",
     "output_type": "stream",
     "text": [
      "root\n",
      " |-- artist: string (nullable = true)\n",
      " |-- auth: string (nullable = true)\n",
      " |-- firstName: string (nullable = true)\n",
      " |-- gender: string (nullable = true)\n",
      " |-- itemInSession: long (nullable = true)\n",
      " |-- lastName: string (nullable = true)\n",
      " |-- length: double (nullable = true)\n",
      " |-- level: string (nullable = true)\n",
      " |-- location: string (nullable = true)\n",
      " |-- method: string (nullable = true)\n",
      " |-- page: string (nullable = true)\n",
      " |-- registration: double (nullable = true)\n",
      " |-- sessionId: long (nullable = true)\n",
      " |-- song: string (nullable = true)\n",
      " |-- status: long (nullable = true)\n",
      " |-- ts: long (nullable = true)\n",
      " |-- userAgent: string (nullable = true)\n",
      " |-- userId: string (nullable = true)\n",
      "\n",
      "+-----------+---------+---------+------+-------------+--------+---------+-----+--------------------+------+--------+-----------------+---------+---------------+------+-------------+--------------------+------+\n",
      "|     artist|     auth|firstName|gender|itemInSession|lastName|   length|level|            location|method|    page|     registration|sessionId|           song|status|           ts|           userAgent|userId|\n",
      "+-----------+---------+---------+------+-------------+--------+---------+-----+--------------------+------+--------+-----------------+---------+---------------+------+-------------+--------------------+------+\n",
      "|   Harmonia|Logged In|     Ryan|     M|            0|   Smith|655.77751| free|San Jose-Sunnyval...|   PUT|NextSong|1.541016707796E12|      583|  Sehr kosmisch|   200|1542241826796|\"Mozilla/5.0 (X11...|    26|\n",
      "|The Prodigy|Logged In|     Ryan|     M|            1|   Smith|260.07465| free|San Jose-Sunnyval...|   PUT|NextSong|1.541016707796E12|      583|The Big Gundown|   200|1542242481796|\"Mozilla/5.0 (X11...|    26|\n",
      "|      Train|Logged In|     Ryan|     M|            2|   Smith|205.45261| free|San Jose-Sunnyval...|   PUT|NextSong|1.541016707796E12|      583|       Marry Me|   200|1542242741796|\"Mozilla/5.0 (X11...|    26|\n",
      "|       null|Logged In|    Wyatt|     M|            0|   Scott|     null| free|Eureka-Arcata-For...|   GET|    Home|1.540872073796E12|      563|           null|   200|1542247071796|Mozilla/5.0 (Wind...|     9|\n",
      "|       null|Logged In|   Austin|     M|            0| Rosales|     null| free|New York-Newark-J...|   GET|    Home|1.541059521796E12|      521|           null|   200|1542252577796|Mozilla/5.0 (Wind...|    12|\n",
      "+-----------+---------+---------+------+-------------+--------+---------+-----+--------------------+------+--------+-----------------+---------+---------------+------+-------------+--------------------+------+\n",
      "only showing top 5 rows\n",
      "\n"
     ]
    }
   ],
   "source": [
    "#df = spark.read.json('s3://udacity-dend/song_data')\n",
    "log_data = spark.read.json('data/log_data/')\n",
    "log_data.printSchema()\n",
    "log_data.show(5)"
   ]
  },
  {
   "cell_type": "code",
   "execution_count": 91,
   "metadata": {
    "editable": true
   },
   "outputs": [],
   "source": [
    "log_data.createOrReplaceTempView(\"log_data_table\")"
   ]
  },
  {
   "cell_type": "code",
   "execution_count": 92,
   "metadata": {
    "editable": true
   },
   "outputs": [
    {
     "name": "stdout",
     "output_type": "stream",
     "text": [
      "+--------+\n",
      "|count(1)|\n",
      "+--------+\n",
      "|    8056|\n",
      "+--------+\n",
      "\n"
     ]
    }
   ],
   "source": [
    "spark.sql(\"select count(1) from log_data_table\").show()"
   ]
  },
  {
   "cell_type": "code",
   "execution_count": 93,
   "metadata": {
    "editable": true
   },
   "outputs": [
    {
     "name": "stdout",
     "output_type": "stream",
     "text": [
      "+-------+----------+---------+------+-----+\n",
      "|user_id|first_name|last_name|gender|level|\n",
      "+-------+----------+---------+------+-----+\n",
      "|     98|    Jordyn|   Powell|     F| free|\n",
      "|     34|    Evelin|    Ayala|     F| free|\n",
      "|     85|   Kinsley|    Young|     F| paid|\n",
      "|     38|    Gianna|    Jones|     F| free|\n",
      "|     85|   Kinsley|    Young|     F| free|\n",
      "|     63|      Ayla|  Johnson|     F| free|\n",
      "|     37|    Jordan|    Hicks|     F| free|\n",
      "|      6|   Cecilia|    Owens|     F| free|\n",
      "|     15|      Lily|     Koch|     F| paid|\n",
      "|     27|    Carlos|   Carter|     M| free|\n",
      "|     89|   Kynnedi|  Sanchez|     F| free|\n",
      "|     21|   Preston|  Sanders|     M| free|\n",
      "|     57| Katherine|      Gay|     F| free|\n",
      "|     74|    Braden|   Parker|     M| free|\n",
      "|     29|Jacqueline|    Lynch|     F| paid|\n",
      "|     75|    Joseph|Gutierrez|     M| free|\n",
      "|     61|    Samuel| Gonzalez|     M| free|\n",
      "|     88|  Mohammad|Rodriguez|     M| free|\n",
      "|     64|    Hannah|  Calhoun|     F| free|\n",
      "|     15|      Lily|     Koch|     F| free|\n",
      "+-------+----------+---------+------+-----+\n",
      "only showing top 20 rows\n",
      "\n"
     ]
    }
   ],
   "source": [
    "# users table\n",
    "spark.sql(\"select distinct userId user_id, firstName first_name, lastName last_name, gender, level from log_data_table\").show()"
   ]
  },
  {
   "cell_type": "code",
   "execution_count": 94,
   "metadata": {
    "editable": true
   },
   "outputs": [
    {
     "name": "stdout",
     "output_type": "stream",
     "text": [
      "+-------------+-------------------+----+---+----+-----+----+-------+\n",
      "|           ts|         start_time|hour|day|week|month|year|weekday|\n",
      "+-------------+-------------------+----+---+----+-----+----+-------+\n",
      "|1542241826796|11-15-2018 00:30:26|  00| 15|  46|   11|2018|      4|\n",
      "|1542242481796|11-15-2018 00:41:21|  00| 15|  46|   11|2018|      4|\n",
      "|1542242741796|11-15-2018 00:45:41|  00| 15|  46|   11|2018|      4|\n",
      "|1542247071796|11-15-2018 01:57:51|  01| 15|  46|   11|2018|      4|\n",
      "|1542252577796|11-15-2018 03:29:37|  03| 15|  46|   11|2018|      4|\n",
      "|1542253449796|11-15-2018 03:44:09|  03| 15|  46|   11|2018|      4|\n",
      "|1542253460796|11-15-2018 03:44:20|  03| 15|  46|   11|2018|      4|\n",
      "|1542260074796|11-15-2018 05:34:34|  05| 15|  46|   11|2018|      4|\n",
      "|1542260277796|11-15-2018 05:37:57|  05| 15|  46|   11|2018|      4|\n",
      "|1542260935796|11-15-2018 05:48:55|  05| 15|  46|   11|2018|      4|\n",
      "|1542261224796|11-15-2018 05:53:44|  05| 15|  46|   11|2018|      4|\n",
      "|1542261356796|11-15-2018 05:55:56|  05| 15|  46|   11|2018|      4|\n",
      "|1542261662796|11-15-2018 06:01:02|  06| 15|  46|   11|2018|      4|\n",
      "|1542261713796|11-15-2018 06:01:53|  06| 15|  46|   11|2018|      4|\n",
      "|1542262057796|11-15-2018 06:07:37|  06| 15|  46|   11|2018|      4|\n",
      "|1542262233796|11-15-2018 06:10:33|  06| 15|  46|   11|2018|      4|\n",
      "|1542262434796|11-15-2018 06:13:54|  06| 15|  46|   11|2018|      4|\n",
      "|1542262456796|11-15-2018 06:14:16|  06| 15|  46|   11|2018|      4|\n",
      "|1542262679796|11-15-2018 06:17:59|  06| 15|  46|   11|2018|      4|\n",
      "|1542262728796|11-15-2018 06:18:48|  06| 15|  46|   11|2018|      4|\n",
      "+-------------+-------------------+----+---+----+-----+----+-------+\n",
      "only showing top 20 rows\n",
      "\n"
     ]
    }
   ],
   "source": [
    "# time table\n",
    "spark.sql(\"select ts, from_unixtime(ts/1000.0, 'MM-dd-yyyy HH:mm:ss') start_time, from_unixtime(ts/1000.00,'HH') hour, \\\n",
    "from_unixtime(ts/1000.0,'dd') day, from_unixtime(ts/1000.0,'ww') week, \\\n",
    "from_unixtime(ts/1000.0,'MM') month, from_unixtime(ts/1000.0,'yyyy') year, from_unixtime(ts/1000.0,'u') weekday \\\n",
    "           from log_data_table where ts is not null\").show()\n",
    "\n",
    "         "
   ]
  },
  {
   "cell_type": "code",
   "execution_count": 99,
   "metadata": {
    "editable": true
   },
   "outputs": [
    {
     "name": "stdout",
     "output_type": "stream",
     "text": [
      "+-------------------+-------+-----+--------------+------------------+------+------------------+----------+--------------------+--------------------+\n",
      "|         start_time|user_id|level|          song|           song_id|artist|         artist_id|session_id|            location|          user_agent|\n",
      "+-------------------+-------+-----+--------------+------------------+------+------------------+----------+--------------------+--------------------+\n",
      "|11-21-2018 21:56:47|     15| paid|Setanta matins|SOZCTXZ12AB0182364| Elena|AR5KOSW1187FB35FF4|       818|Chicago-Napervill...|\"Mozilla/5.0 (X11...|\n",
      "+-------------------+-------+-----+--------------+------------------+------+------------------+----------+--------------------+--------------------+\n",
      "\n"
     ]
    }
   ],
   "source": [
    "#songplays table\n",
    "spark.sql(\"select from_unixtime(a.ts/1000.0, 'MM-dd-yyyy HH:mm:ss') start_time, a.userId  user_id, a.level, a.song, b.song_id, a.artist,\\\n",
    "c.artist_id, a.sessionId  session_id, a.location, a.userAgent user_agent  \\\n",
    "from log_data_table a, song_table b, artist_table c \\\n",
    "          where a.page='NextSong'\\\n",
    "          and a.song = b.title \\\n",
    "          and a.artist = c.name\").show()"
   ]
  },
  {
   "cell_type": "code",
   "execution_count": 101,
   "metadata": {
    "editable": true
   },
   "outputs": [],
   "source": [
    "#write to file\n",
    "songplays_frame = spark.sql(\"select from_unixtime(a.ts/1000.0, 'MM-dd-yyyy HH:mm:ss') start_time, a.userId  user_id, a.level, a.song, b.song_id, a.artist,\\\n",
    "c.artist_id, a.sessionId  session_id, a.location, a.userAgent user_agent  \\\n",
    "from log_data_table a, song_table b, artist_table c \\\n",
    "          where a.page='NextSong'\\\n",
    "          and a.song = b.title \\\n",
    "          and a.artist = c.name\")\n",
    "songplays_frame.write.parquet(\"output/songplays.parquet\")"
   ]
  },
  {
   "cell_type": "code",
   "execution_count": null,
   "metadata": {
    "editable": true
   },
   "outputs": [],
   "source": []
  }
 ],
 "metadata": {
  "kernelspec": {
   "display_name": "Python 3",
   "language": "python",
   "name": "python3"
  },
  "language_info": {
   "codemirror_mode": {
    "name": "ipython",
    "version": 3
   },
   "file_extension": ".py",
   "mimetype": "text/x-python",
   "name": "python",
   "nbconvert_exporter": "python",
   "pygments_lexer": "ipython3",
   "version": "3.6.3"
  }
 },
 "nbformat": 4,
 "nbformat_minor": 4
}
